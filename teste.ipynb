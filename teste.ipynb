{
 "cells": [
  {
   "cell_type": "code",
   "execution_count": 2,
   "metadata": {},
   "outputs": [],
   "source": [
    "import get_fin_data as gfd"
   ]
  },
  {
   "cell_type": "code",
   "execution_count": 3,
   "metadata": {},
   "outputs": [
    {
     "name": "stdout",
     "output_type": "stream",
     "text": [
      "[*********************100%***********************]  1 of 1 completed\n",
      "            adj_close\n",
      "Date                 \n",
      "2020-01-02  14.581381\n",
      "2020-01-03  14.462639\n",
      "2020-01-06  14.633625\n",
      "2020-01-07  14.576631\n",
      "2020-01-08  14.486386\n",
      "...               ...\n",
      "2021-12-23  16.556160\n",
      "2021-12-27  16.801609\n",
      "2021-12-28  16.819141\n",
      "2021-12-29  16.678885\n",
      "2021-12-30  16.626287\n",
      "\n",
      "[495 rows x 1 columns]\n"
     ]
    }
   ],
   "source": [
    "# exemplo\n",
    "ticker = \"PETR4.SA\" \n",
    "start_date = \"2020-01-01\"\n",
    "end_date = \"2022-01-01\" \n",
    "\n",
    "data = gfd.get_close_price(ticker,start_date, end_date)\n",
    "print(data)"
   ]
  },
  {
   "cell_type": "code",
   "execution_count": 27,
   "metadata": {},
   "outputs": [],
   "source": [
    "import pandas as pd\n",
    "import numpy as np\n",
    "\n",
    "def normalize_price(stock: pd.core.frame.DataFrame, pct: float) -> pd.core.frame.DataFrame:\n",
    "    \"\"\"\n",
    "    function to normalize the prices of stocks.\n",
    "    \n",
    "    parameters:\n",
    "        stock: a dataframe with the price of the stock.\n",
    "        pct: a float that specifies the size (percentage) of the in-sample.\n",
    "    \"\"\"\n",
    "\n",
    "    n = round(len(stock)*pct)\n",
    "    stock_insample = stock.iloc[:n,:]\n",
    "    stock_outsample = stock.iloc[n:,:]\n",
    "\n",
    "    price_max = np.max(stock_insample)\n",
    "    price_min = np.min(stock_insample)\n",
    "    price_range = price_max - price_min\n",
    "\n",
    "    norm_price_insample = stock_insample.sub(price_min).div(price_range)\n",
    "    norm_price_insample.rename(columns={\"adj_close\": \"adj_close_in\"}, inplace=True)\n",
    "\n",
    "    norm_price_outsample = stock_outsample.sub(price_min).div(price_range)\n",
    "    norm_price_insample.rename(columns={\"adj_close\": \"adj_close_out\"}, inplace=True)\n",
    "    \n",
    "    norm_price = pd.concat([norm_price_outsample, norm_price_insample], axis=1)\n",
    "\n",
    "    return norm_price"
   ]
  },
  {
   "cell_type": "code",
   "execution_count": 29,
   "metadata": {},
   "outputs": [
    {
     "name": "stdout",
     "output_type": "stream",
     "text": [
      "            adj_close  adj_close_in\n",
      "Date                               \n",
      "2021-12-23   1.207364           NaN\n",
      "2021-12-27   1.233838           NaN\n",
      "2021-12-28   1.235730           NaN\n",
      "2021-12-29   1.220601           NaN\n",
      "2021-12-30   1.214928           NaN\n",
      "            adj_close  adj_close_in\n",
      "Date                               \n",
      "2020-01-02        NaN      0.994365\n",
      "2020-01-03        NaN      0.981557\n",
      "2020-01-06        NaN      1.000000\n",
      "2020-01-07        NaN      0.993853\n",
      "2020-01-08        NaN      0.984119\n"
     ]
    },
    {
     "name": "stderr",
     "output_type": "stream",
     "text": [
      "c:\\Users\\mathe\\anaconda3\\envs\\ecocomp\\lib\\site-packages\\numpy\\core\\fromnumeric.py:84: FutureWarning: In a future version, DataFrame.max(axis=None) will return a scalar max over the entire DataFrame. To retain the old behavior, use 'frame.max(axis=0)' or just 'frame.max()'\n",
      "  return reduction(axis=axis, out=out, **passkwargs)\n",
      "c:\\Users\\mathe\\anaconda3\\envs\\ecocomp\\lib\\site-packages\\numpy\\core\\fromnumeric.py:84: FutureWarning: In a future version, DataFrame.min(axis=None) will return a scalar min over the entire DataFrame. To retain the old behavior, use 'frame.min(axis=0)' or just 'frame.min()'\n",
      "  return reduction(axis=axis, out=out, **passkwargs)\n"
     ]
    }
   ],
   "source": [
    "test = normalize_price(data, 0.5)\n",
    "print(test.tail())\n",
    "print(test.head())"
   ]
  }
 ],
 "metadata": {
  "kernelspec": {
   "display_name": "ecocomp",
   "language": "python",
   "name": "python3"
  },
  "language_info": {
   "codemirror_mode": {
    "name": "ipython",
    "version": 3
   },
   "file_extension": ".py",
   "mimetype": "text/x-python",
   "name": "python",
   "nbconvert_exporter": "python",
   "pygments_lexer": "ipython3",
   "version": "3.10.4"
  },
  "orig_nbformat": 4,
  "vscode": {
   "interpreter": {
    "hash": "2624ea83cf549136257166a51bf3ffa78dc3393fef76740303df3359881d8fe0"
   }
  }
 },
 "nbformat": 4,
 "nbformat_minor": 2
}
