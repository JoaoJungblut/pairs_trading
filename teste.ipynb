{
 "cells": [
  {
   "cell_type": "code",
   "execution_count": 20,
   "metadata": {},
   "outputs": [
    {
     "ename": "ModuleNotFoundError",
     "evalue": "No module named 'pandas_datareader'",
     "output_type": "error",
     "traceback": [
      "\u001b[1;31m---------------------------------------------------------------------------\u001b[0m",
      "\u001b[1;31mModuleNotFoundError\u001b[0m                       Traceback (most recent call last)",
      "\u001b[1;32mc:\\Users\\mathe\\Documents\\GitHub\\pairs_trading\\teste.ipynb Célula 1\u001b[0m in \u001b[0;36m<cell line: 1>\u001b[1;34m()\u001b[0m\n\u001b[1;32m----> <a href='vscode-notebook-cell:/c%3A/Users/mathe/Documents/GitHub/pairs_trading/teste.ipynb#W1sZmlsZQ%3D%3D?line=0'>1</a>\u001b[0m \u001b[39mfrom\u001b[39;00m \u001b[39mpandas_datareader\u001b[39;00m \u001b[39mimport\u001b[39;00m data \u001b[39mas\u001b[39;00m pdr\n\u001b[0;32m      <a href='vscode-notebook-cell:/c%3A/Users/mathe/Documents/GitHub/pairs_trading/teste.ipynb#W1sZmlsZQ%3D%3D?line=1'>2</a>\u001b[0m data \u001b[39m=\u001b[39m pdr\u001b[39m.\u001b[39mget_data_yahoo(\u001b[39m\"\u001b[39m\u001b[39mAAPL\u001b[39m\u001b[39m\"\u001b[39m, start\u001b[39m=\u001b[39m\u001b[39m\"\u001b[39m\u001b[39m2020-01-01\u001b[39m\u001b[39m\"\u001b[39m, end\u001b[39m=\u001b[39m\u001b[39m\"\u001b[39m\u001b[39m2021-01-01\u001b[39m\u001b[39m\"\u001b[39m)\n\u001b[0;32m      <a href='vscode-notebook-cell:/c%3A/Users/mathe/Documents/GitHub/pairs_trading/teste.ipynb#W1sZmlsZQ%3D%3D?line=2'>3</a>\u001b[0m \u001b[39mprint\u001b[39m(data\u001b[39m.\u001b[39mhead())\n",
      "\u001b[1;31mModuleNotFoundError\u001b[0m: No module named 'pandas_datareader'"
     ]
    }
   ],
   "source": [
    "from pandas_datareader import data as pdr\n",
    "data = pdr.get_data_yahoo(\"AAPL\", start=\"2020-01-01\", end=\"2021-01-01\")\n",
    "print(data.head())"
   ]
  },
  {
   "cell_type": "code",
   "execution_count": 48,
   "metadata": {},
   "outputs": [
    {
     "name": "stdout",
     "output_type": "stream",
     "text": [
      "                                 Open        High         Low       Close  \\\n",
      "Date                                                                        \n",
      "2020-02-24 00:00:00-05:00   55.933334   57.566666   54.813332   55.585999   \n",
      "2020-02-25 00:00:00-05:00   56.599998   57.106667   52.466667   53.327332   \n",
      "2020-02-26 00:00:00-05:00   52.166668   54.220669   51.740665   51.919998   \n",
      "2020-02-27 00:00:00-05:00   48.666668   49.318001   44.599998   45.266666   \n",
      "2020-02-28 00:00:00-05:00   41.980000   46.034668   40.768002   44.532665   \n",
      "...                               ...         ...         ...         ...   \n",
      "2023-02-15 00:00:00-05:00  211.759995  214.660004  206.110001  214.240005   \n",
      "2023-02-16 00:00:00-05:00  210.779999  217.649994  201.839996  202.039993   \n",
      "2023-02-17 00:00:00-05:00  199.990005  208.440002  197.500000  208.309998   \n",
      "2023-02-21 00:00:00-05:00  204.990005  209.710007  197.220001  197.369995   \n",
      "2023-02-22 00:00:00-05:00  197.929993  201.990005  191.789993  200.660004   \n",
      "\n",
      "                              Volume  Dividends  Stock Splits  \n",
      "Date                                                           \n",
      "2020-02-24 00:00:00-05:00  227883000        0.0           0.0  \n",
      "2020-02-25 00:00:00-05:00  259357500        0.0           0.0  \n",
      "2020-02-26 00:00:00-05:00  211282500        0.0           0.0  \n",
      "2020-02-27 00:00:00-05:00  364158000        0.0           0.0  \n",
      "2020-02-28 00:00:00-05:00  363343500        0.0           0.0  \n",
      "...                              ...        ...           ...  \n",
      "2023-02-15 00:00:00-05:00  182108600        0.0           0.0  \n",
      "2023-02-16 00:00:00-05:00  229586500        0.0           0.0  \n",
      "2023-02-17 00:00:00-05:00  213080200        0.0           0.0  \n",
      "2023-02-21 00:00:00-05:00  180018600        0.0           0.0  \n",
      "2023-02-22 00:00:00-05:00  174187846        0.0           0.0  \n",
      "\n",
      "[756 rows x 7 columns]\n",
      "<class 'pandas.core.frame.DataFrame'>\n"
     ]
    }
   ],
   "source": [
    "data = yf.Ticker('TSLA').history(period='36mo')\n",
    "print(data)\n",
    "print(type(data))"
   ]
  },
  {
   "cell_type": "code",
   "execution_count": 38,
   "metadata": {},
   "outputs": [
    {
     "name": "stdout",
     "output_type": "stream",
     "text": [
      "<class 'pandas.core.frame.DataFrame'>\n",
      "                                Close\n",
      "Date                                 \n",
      "2020-02-24 00:00:00-05:00   55.585999\n",
      "2020-02-25 00:00:00-05:00   53.327332\n",
      "2020-02-26 00:00:00-05:00   51.919998\n",
      "2020-02-27 00:00:00-05:00   45.266666\n",
      "2020-02-28 00:00:00-05:00   44.532665\n",
      "...                               ...\n",
      "2023-02-15 00:00:00-05:00  214.240005\n",
      "2023-02-16 00:00:00-05:00  202.039993\n",
      "2023-02-17 00:00:00-05:00  208.309998\n",
      "2023-02-21 00:00:00-05:00  197.369995\n",
      "2023-02-22 00:00:00-05:00  199.455002\n",
      "\n",
      "[756 rows x 1 columns]\n"
     ]
    }
   ],
   "source": [
    "print(type(data))\n",
    "print(data.iloc[:,[3]])\n"
   ]
  },
  {
   "cell_type": "code",
   "execution_count": 51,
   "metadata": {},
   "outputs": [
    {
     "name": "stdout",
     "output_type": "stream",
     "text": [
      "2023-02-12 17:34:17.064297\n",
      "2023-02-12\n",
      "<class 'str'>\n",
      "2023-02-12\n"
     ]
    }
   ],
   "source": [
    "import datetime\n",
    "\n",
    "print(datetime.datetime.now() - datetime.timedelta(10))\n",
    "\n",
    "date = datetime.date.today() - datetime.timedelta(10)\n",
    "print(date)\n",
    "print(type(str(date)))\n",
    "print(str(date))"
   ]
  }
 ],
 "metadata": {
  "kernelspec": {
   "display_name": "ecocomp",
   "language": "python",
   "name": "python3"
  },
  "language_info": {
   "codemirror_mode": {
    "name": "ipython",
    "version": 3
   },
   "file_extension": ".py",
   "mimetype": "text/x-python",
   "name": "python",
   "nbconvert_exporter": "python",
   "pygments_lexer": "ipython3",
   "version": "3.10.4"
  },
  "orig_nbformat": 4,
  "vscode": {
   "interpreter": {
    "hash": "2624ea83cf549136257166a51bf3ffa78dc3393fef76740303df3359881d8fe0"
   }
  }
 },
 "nbformat": 4,
 "nbformat_minor": 2
}
