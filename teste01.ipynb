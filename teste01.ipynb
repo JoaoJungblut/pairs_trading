{
 "cells": [
  {
   "cell_type": "code",
   "execution_count": 19,
   "metadata": {},
   "outputs": [
    {
     "name": "stdout",
     "output_type": "stream",
     "text": [
      "AMZO: No data found, symbol may be delisted\n",
      "<class 'pandas.core.frame.DataFrame'>\n"
     ]
    }
   ],
   "source": [
    "import yfinance as yf\n",
    "import pandas as pd\n",
    "\n",
    "tickers = [\"MSFT\", \"AAPL\", \"TSLA\", \"NFLX\", \"AMZO\"]\n",
    "ticker_obj = []\n",
    "for t in tickers:\n",
    "    ticker_obj.append(yf.Ticker(t))\n",
    "\n",
    "index = range(0, len(ticker_obj))\n",
    "for i in index:\n",
    "    ticker_obj[i] = ticker_obj[i].history(period=\"36mo\")\n",
    "\n",
    "print(type(ticker_obj[1]))"
   ]
  },
  {
   "cell_type": "code",
   "execution_count": null,
   "metadata": {},
   "outputs": [],
   "source": [
    "#PODE FAZER ASSIM TBM \n",
    "symbol_list = ['PETR4.SA','USIM5.SA','CSNA3.SA','SBSP3.SA']\n",
    "\n",
    "df1 = pd.DataFrame()\n",
    "contador = 0\n",
    "datas = []\n",
    "for ativo in symbol_list:\n",
    "    chamada_api = yf.Ticker(ativo).history(period='36mo')\n",
    "    closes = chamada_api['Close'].values\n",
    "    df1[ativo] = closes\n",
    "    if contador == 0:\n",
    "        contador += 1\n",
    "        datas.append(list(chamada_api.index))\n",
    "\n",
    "df1['Datas'] = datas[0]\n",
    "df1 = df1.set_index('Datas', drop=True)\n",
    "df1"
   ]
  },
  {
   "cell_type": "code",
   "execution_count": 23,
   "metadata": {},
   "outputs": [
    {
     "name": "stdout",
     "output_type": "stream",
     "text": [
      "[*********************100%***********************]  1 of 1 completed\n",
      "<class 'pandas.core.frame.DataFrame'>\n",
      "                  Open        High         Low       Close   Adj Close  \\\n",
      "Date                                                                     \n",
      "2022-01-03  177.830002  182.880005  177.710007  182.009995  180.683868   \n",
      "2022-01-04  182.630005  182.940002  179.119995  179.699997  178.390717   \n",
      "2022-01-05  179.610001  180.169998  174.639999  174.919998  173.645523   \n",
      "2022-01-06  172.699997  175.300003  171.639999  172.000000  170.746811   \n",
      "2022-01-07  172.889999  174.139999  171.029999  172.169998  170.915573   \n",
      "\n",
      "               Volume  \n",
      "Date                   \n",
      "2022-01-03  104487900  \n",
      "2022-01-04   99310400  \n",
      "2022-01-05   94537600  \n",
      "2022-01-06   96904000  \n",
      "2022-01-07   86709100  \n"
     ]
    }
   ],
   "source": [
    "import yfinance as yf\n",
    "import pandas as pd\n",
    "\n",
    "aapl = yf.download(\"AAPL\", start=\"2022-01-01\", end=\"2023-01-01\")\n",
    "print(type(aapl))\n",
    "print(aapl.head())"
   ]
  },
  {
   "cell_type": "code",
   "execution_count": 2,
   "metadata": {},
   "outputs": [
    {
     "name": "stdout",
     "output_type": "stream",
     "text": [
      "helo\n"
     ]
    }
   ],
   "source": [
    "print(\"helo\")"
   ]
  }
 ],
 "metadata": {
  "kernelspec": {
   "display_name": "ecocomp",
   "language": "python",
   "name": "python3"
  },
  "language_info": {
   "codemirror_mode": {
    "name": "ipython",
    "version": 3
   },
   "file_extension": ".py",
   "mimetype": "text/x-python",
   "name": "python",
   "nbconvert_exporter": "python",
   "pygments_lexer": "ipython3",
   "version": "3.10.4"
  },
  "orig_nbformat": 4,
  "vscode": {
   "interpreter": {
    "hash": "2624ea83cf549136257166a51bf3ffa78dc3393fef76740303df3359881d8fe0"
   }
  }
 },
 "nbformat": 4,
 "nbformat_minor": 2
}
